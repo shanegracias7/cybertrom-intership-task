{
  "nbformat": 4,
  "nbformat_minor": 0,
  "metadata": {
    "colab": {
      "name": "Untitled4.ipynb",
      "provenance": [],
      "collapsed_sections": [],
      "authorship_tag": "ABX9TyMHgNyZ6pYNXm27029avRu/",
      "include_colab_link": true
    },
    "kernelspec": {
      "name": "python3",
      "display_name": "Python 3"
    }
  },
  "cells": [
    {
      "cell_type": "markdown",
      "metadata": {
        "id": "view-in-github",
        "colab_type": "text"
      },
      "source": [
        "<a href=\"https://colab.research.google.com/github/shanegracias7/cybertrom-intership-task/blob/master/Untitled4.ipynb\" target=\"_parent\"><img src=\"https://colab.research.google.com/assets/colab-badge.svg\" alt=\"Open In Colab\"/></a>"
      ]
    },
    {
      "cell_type": "markdown",
      "metadata": {
        "id": "lP7RksNy28mR",
        "colab_type": "text"
      },
      "source": [
        "IMPORTING PACKAGES"
      ]
    },
    {
      "cell_type": "code",
      "metadata": {
        "id": "dRkNLob7WCHf",
        "colab_type": "code",
        "colab": {}
      },
      "source": [
        "import requests\n",
        "import pandas as pd\n",
        "import numpy as np"
      ],
      "execution_count": null,
      "outputs": []
    },
    {
      "cell_type": "markdown",
      "metadata": {
        "id": "hJZoZkrG3Qg_",
        "colab_type": "text"
      },
      "source": [
        "GETTING DATA FROM API"
      ]
    },
    {
      "cell_type": "code",
      "metadata": {
        "id": "GYpMIm9TWFhW",
        "colab_type": "code",
        "colab": {}
      },
      "source": [
        "url = 'https://fantasy.premierleague.com/api/bootstrap-static/'\n",
        "r = requests.get(url)"
      ],
      "execution_count": null,
      "outputs": []
    },
    {
      "cell_type": "markdown",
      "metadata": {
        "id": "orm59qVf3eaD",
        "colab_type": "text"
      },
      "source": [
        "CONVERTING REQUEST INTO JSON OBJECT"
      ]
    },
    {
      "cell_type": "code",
      "metadata": {
        "id": "AyzZBumoWLEK",
        "colab_type": "code",
        "colab": {}
      },
      "source": [
        "json = r.json()"
      ],
      "execution_count": null,
      "outputs": []
    },
    {
      "cell_type": "markdown",
      "metadata": {
        "id": "NpAtQOuSWPz0",
        "colab_type": "text"
      },
      "source": [
        "CREATING DATAFRAMES"
      ]
    },
    {
      "cell_type": "code",
      "metadata": {
        "id": "5Kr1RZaZWPQ9",
        "colab_type": "code",
        "colab": {}
      },
      "source": [
        "elements_df = pd.DataFrame(json['elements'])\n",
        "elements_types_df = pd.DataFrame(json['element_types'])\n",
        "teams_df = pd.DataFrame(json['teams'])"
      ],
      "execution_count": null,
      "outputs": []
    },
    {
      "cell_type": "markdown",
      "metadata": {
        "id": "nqLucsNIWqXN",
        "colab_type": "text"
      },
      "source": [
        "TRIMMING THE DATAFRAME"
      ]
    },
    {
      "cell_type": "code",
      "metadata": {
        "id": "S5mg5G0rWpeO",
        "colab_type": "code",
        "colab": {}
      },
      "source": [
        "slim_elements_df = elements_df[['second_name','team','element_type','now_cost','selected_by_percent','minutes','value_season','total_points', 'dreamteam_count', 'value_form', 'points_per_game', 'form', 'goals_scored','bonus',\n",
        "       'assists', 'clean_sheets']]"
      ],
      "execution_count": null,
      "outputs": []
    },
    {
      "cell_type": "markdown",
      "metadata": {
        "id": "spvqBvJJZoJ4",
        "colab_type": "text"
      },
      "source": [
        "MAPPING TEAMS AND POSITIONS"
      ]
    },
    {
      "cell_type": "code",
      "metadata": {
        "id": "R4xvda7RZzkr",
        "colab_type": "code",
        "colab": {
          "base_uri": "https://localhost:8080/",
          "height": 230
        },
        "outputId": "959c47bd-7aac-41fb-efa9-5d20eb4311b8"
      },
      "source": [
        "slim_elements_df['element_type'] = slim_elements_df.element_type.map(elements_types_df.set_index('id').singular_name)\n",
        "slim_elements_df['team'] = slim_elements_df.team.map(teams_df.set_index('id').name)\n",
        "\n",
        "\n"
      ],
      "execution_count": null,
      "outputs": [
        {
          "output_type": "stream",
          "text": [
            "/usr/local/lib/python3.6/dist-packages/ipykernel_launcher.py:1: SettingWithCopyWarning: \n",
            "A value is trying to be set on a copy of a slice from a DataFrame.\n",
            "Try using .loc[row_indexer,col_indexer] = value instead\n",
            "\n",
            "See the caveats in the documentation: https://pandas.pydata.org/pandas-docs/stable/user_guide/indexing.html#returning-a-view-versus-a-copy\n",
            "  \"\"\"Entry point for launching an IPython kernel.\n",
            "/usr/local/lib/python3.6/dist-packages/ipykernel_launcher.py:2: SettingWithCopyWarning: \n",
            "A value is trying to be set on a copy of a slice from a DataFrame.\n",
            "Try using .loc[row_indexer,col_indexer] = value instead\n",
            "\n",
            "See the caveats in the documentation: https://pandas.pydata.org/pandas-docs/stable/user_guide/indexing.html#returning-a-view-versus-a-copy\n",
            "  \n"
          ],
          "name": "stderr"
        }
      ]
    },
    {
      "cell_type": "markdown",
      "metadata": {
        "id": "80Xm1gq3d15z",
        "colab_type": "text"
      },
      "source": [
        "RENAMING COLUMNS"
      ]
    },
    {
      "cell_type": "code",
      "metadata": {
        "id": "qwtkuWLWd62S",
        "colab_type": "code",
        "colab": {
          "base_uri": "https://localhost:8080/",
          "height": 234
        },
        "outputId": "afedc60a-b66e-448a-d09d-ab3efba4b3fe"
      },
      "source": [
        "slim_elements_df = slim_elements_df.rename(columns = {'second_name': 'name', 'element_type': 'position' , 'now_cost' : 'cost', 'selected_by_percent':'%selected'}, inplace = False)\n",
        "\n",
        "\n",
        "#fixing cost atribute\n",
        "slim_elements_df['cost']=slim_elements_df['cost']/10\n",
        "slim_elements_df.head()\n"
      ],
      "execution_count": null,
      "outputs": [
        {
          "output_type": "execute_result",
          "data": {
            "text/html": [
              "<div>\n",
              "<style scoped>\n",
              "    .dataframe tbody tr th:only-of-type {\n",
              "        vertical-align: middle;\n",
              "    }\n",
              "\n",
              "    .dataframe tbody tr th {\n",
              "        vertical-align: top;\n",
              "    }\n",
              "\n",
              "    .dataframe thead th {\n",
              "        text-align: right;\n",
              "    }\n",
              "</style>\n",
              "<table border=\"1\" class=\"dataframe\">\n",
              "  <thead>\n",
              "    <tr style=\"text-align: right;\">\n",
              "      <th></th>\n",
              "      <th>name</th>\n",
              "      <th>team</th>\n",
              "      <th>position</th>\n",
              "      <th>cost</th>\n",
              "      <th>selected_by_percent</th>\n",
              "      <th>minutes</th>\n",
              "      <th>value_season</th>\n",
              "      <th>total_points</th>\n",
              "      <th>dreamteam_count</th>\n",
              "      <th>value_form</th>\n",
              "      <th>points_per_game</th>\n",
              "      <th>form</th>\n",
              "      <th>goals_scored</th>\n",
              "      <th>bonus</th>\n",
              "      <th>assists</th>\n",
              "      <th>clean_sheets</th>\n",
              "    </tr>\n",
              "  </thead>\n",
              "  <tbody>\n",
              "    <tr>\n",
              "      <th>0</th>\n",
              "      <td>Özil</td>\n",
              "      <td>Arsenal</td>\n",
              "      <td>Midfielder</td>\n",
              "      <td>7.0</td>\n",
              "      <td>1.2</td>\n",
              "      <td>0</td>\n",
              "      <td>0.0</td>\n",
              "      <td>0</td>\n",
              "      <td>0</td>\n",
              "      <td>0.0</td>\n",
              "      <td>0.0</td>\n",
              "      <td>0.0</td>\n",
              "      <td>0</td>\n",
              "      <td>0</td>\n",
              "      <td>0</td>\n",
              "      <td>0</td>\n",
              "    </tr>\n",
              "    <tr>\n",
              "      <th>1</th>\n",
              "      <td>Papastathopoulos</td>\n",
              "      <td>Arsenal</td>\n",
              "      <td>Defender</td>\n",
              "      <td>5.0</td>\n",
              "      <td>0.2</td>\n",
              "      <td>0</td>\n",
              "      <td>0.0</td>\n",
              "      <td>0</td>\n",
              "      <td>0</td>\n",
              "      <td>0.0</td>\n",
              "      <td>0.0</td>\n",
              "      <td>0.0</td>\n",
              "      <td>0</td>\n",
              "      <td>0</td>\n",
              "      <td>0</td>\n",
              "      <td>0</td>\n",
              "    </tr>\n",
              "    <tr>\n",
              "      <th>2</th>\n",
              "      <td>Luiz Moreira Marinho</td>\n",
              "      <td>Arsenal</td>\n",
              "      <td>Defender</td>\n",
              "      <td>5.5</td>\n",
              "      <td>0.8</td>\n",
              "      <td>0</td>\n",
              "      <td>0.0</td>\n",
              "      <td>0</td>\n",
              "      <td>0</td>\n",
              "      <td>0.0</td>\n",
              "      <td>0.0</td>\n",
              "      <td>0.0</td>\n",
              "      <td>0</td>\n",
              "      <td>0</td>\n",
              "      <td>0</td>\n",
              "      <td>0</td>\n",
              "    </tr>\n",
              "    <tr>\n",
              "      <th>3</th>\n",
              "      <td>Aubameyang</td>\n",
              "      <td>Arsenal</td>\n",
              "      <td>Midfielder</td>\n",
              "      <td>12.0</td>\n",
              "      <td>46.5</td>\n",
              "      <td>90</td>\n",
              "      <td>0.6</td>\n",
              "      <td>7</td>\n",
              "      <td>0</td>\n",
              "      <td>0.6</td>\n",
              "      <td>7.0</td>\n",
              "      <td>7.0</td>\n",
              "      <td>1</td>\n",
              "      <td>0</td>\n",
              "      <td>0</td>\n",
              "      <td>1</td>\n",
              "    </tr>\n",
              "    <tr>\n",
              "      <th>4</th>\n",
              "      <td>Soares</td>\n",
              "      <td>Arsenal</td>\n",
              "      <td>Defender</td>\n",
              "      <td>4.9</td>\n",
              "      <td>0.5</td>\n",
              "      <td>0</td>\n",
              "      <td>0.0</td>\n",
              "      <td>0</td>\n",
              "      <td>0</td>\n",
              "      <td>0.0</td>\n",
              "      <td>0.0</td>\n",
              "      <td>0.0</td>\n",
              "      <td>0</td>\n",
              "      <td>0</td>\n",
              "      <td>0</td>\n",
              "      <td>0</td>\n",
              "    </tr>\n",
              "  </tbody>\n",
              "</table>\n",
              "</div>"
            ],
            "text/plain": [
              "                   name     team    position  ...  bonus assists  clean_sheets\n",
              "0                  Özil  Arsenal  Midfielder  ...      0       0             0\n",
              "1      Papastathopoulos  Arsenal    Defender  ...      0       0             0\n",
              "2  Luiz Moreira Marinho  Arsenal    Defender  ...      0       0             0\n",
              "3            Aubameyang  Arsenal  Midfielder  ...      0       0             1\n",
              "4                Soares  Arsenal    Defender  ...      0       0             0\n",
              "\n",
              "[5 rows x 16 columns]"
            ]
          },
          "metadata": {
            "tags": []
          },
          "execution_count": 72
        }
      ]
    },
    {
      "cell_type": "markdown",
      "metadata": {
        "id": "QSJ9CEVHbqjx",
        "colab_type": "text"
      },
      "source": [
        "CREATING DEFENDER DATAFRAME"
      ]
    },
    {
      "cell_type": "code",
      "metadata": {
        "id": "I_DxSBJGD03j",
        "colab_type": "code",
        "colab": {
          "base_uri": "https://localhost:8080/",
          "height": 345
        },
        "outputId": "a9952420-85e9-4d47-cdd7-c2ffa048af0e"
      },
      "source": [
        "defenders_df= slim_elements_df.loc[slim_elements_df.element_type==\"Defender\"]\n",
        "defenders_df.head()\n",
        "#trimming data\n",
        "\n"
      ],
      "execution_count": null,
      "outputs": [
        {
          "output_type": "error",
          "ename": "AttributeError",
          "evalue": "ignored",
          "traceback": [
            "\u001b[0;31m---------------------------------------------------------------------------\u001b[0m",
            "\u001b[0;31mAttributeError\u001b[0m                            Traceback (most recent call last)",
            "\u001b[0;32m<ipython-input-73-f4c78015cccf>\u001b[0m in \u001b[0;36m<module>\u001b[0;34m()\u001b[0m\n\u001b[0;32m----> 1\u001b[0;31m \u001b[0mdefenders_df\u001b[0m\u001b[0;34m=\u001b[0m \u001b[0mslim_elements_df\u001b[0m\u001b[0;34m.\u001b[0m\u001b[0mloc\u001b[0m\u001b[0;34m[\u001b[0m\u001b[0mslim_elements_df\u001b[0m\u001b[0;34m.\u001b[0m\u001b[0melement_type\u001b[0m\u001b[0;34m==\u001b[0m\u001b[0;34m\"Defender\"\u001b[0m\u001b[0;34m]\u001b[0m\u001b[0;34m\u001b[0m\u001b[0;34m\u001b[0m\u001b[0m\n\u001b[0m\u001b[1;32m      2\u001b[0m \u001b[0mdefenders_df\u001b[0m\u001b[0;34m.\u001b[0m\u001b[0mhead\u001b[0m\u001b[0;34m(\u001b[0m\u001b[0;34m)\u001b[0m\u001b[0;34m\u001b[0m\u001b[0;34m\u001b[0m\u001b[0m\n\u001b[1;32m      3\u001b[0m \u001b[0;31m#trimming data\u001b[0m\u001b[0;34m\u001b[0m\u001b[0;34m\u001b[0m\u001b[0;34m\u001b[0m\u001b[0m\n\u001b[1;32m      4\u001b[0m \u001b[0;34m\u001b[0m\u001b[0m\n",
            "\u001b[0;32m/usr/local/lib/python3.6/dist-packages/pandas/core/generic.py\u001b[0m in \u001b[0;36m__getattr__\u001b[0;34m(self, name)\u001b[0m\n\u001b[1;32m   5272\u001b[0m             \u001b[0;32mif\u001b[0m \u001b[0mself\u001b[0m\u001b[0;34m.\u001b[0m\u001b[0m_info_axis\u001b[0m\u001b[0;34m.\u001b[0m\u001b[0m_can_hold_identifiers_and_holds_name\u001b[0m\u001b[0;34m(\u001b[0m\u001b[0mname\u001b[0m\u001b[0;34m)\u001b[0m\u001b[0;34m:\u001b[0m\u001b[0;34m\u001b[0m\u001b[0;34m\u001b[0m\u001b[0m\n\u001b[1;32m   5273\u001b[0m                 \u001b[0;32mreturn\u001b[0m \u001b[0mself\u001b[0m\u001b[0;34m[\u001b[0m\u001b[0mname\u001b[0m\u001b[0;34m]\u001b[0m\u001b[0;34m\u001b[0m\u001b[0;34m\u001b[0m\u001b[0m\n\u001b[0;32m-> 5274\u001b[0;31m             \u001b[0;32mreturn\u001b[0m \u001b[0mobject\u001b[0m\u001b[0;34m.\u001b[0m\u001b[0m__getattribute__\u001b[0m\u001b[0;34m(\u001b[0m\u001b[0mself\u001b[0m\u001b[0;34m,\u001b[0m \u001b[0mname\u001b[0m\u001b[0;34m)\u001b[0m\u001b[0;34m\u001b[0m\u001b[0;34m\u001b[0m\u001b[0m\n\u001b[0m\u001b[1;32m   5275\u001b[0m \u001b[0;34m\u001b[0m\u001b[0m\n\u001b[1;32m   5276\u001b[0m     \u001b[0;32mdef\u001b[0m \u001b[0m__setattr__\u001b[0m\u001b[0;34m(\u001b[0m\u001b[0mself\u001b[0m\u001b[0;34m,\u001b[0m \u001b[0mname\u001b[0m\u001b[0;34m:\u001b[0m \u001b[0mstr\u001b[0m\u001b[0;34m,\u001b[0m \u001b[0mvalue\u001b[0m\u001b[0;34m)\u001b[0m \u001b[0;34m->\u001b[0m \u001b[0;32mNone\u001b[0m\u001b[0;34m:\u001b[0m\u001b[0;34m\u001b[0m\u001b[0;34m\u001b[0m\u001b[0m\n",
            "\u001b[0;31mAttributeError\u001b[0m: 'DataFrame' object has no attribute 'element_type'"
          ]
        }
      ]
    },
    {
      "cell_type": "code",
      "metadata": {
        "id": "oB6W_gRncfV2",
        "colab_type": "code",
        "colab": {}
      },
      "source": [
        "\n"
      ],
      "execution_count": null,
      "outputs": []
    },
    {
      "cell_type": "markdown",
      "metadata": {
        "id": "km-UOZ02G7T6",
        "colab_type": "text"
      },
      "source": [
        "defenders_df.sort_values('value',ascending=False).head(10)"
      ]
    },
    {
      "cell_type": "code",
      "metadata": {
        "id": "sGMoTP7rcx5s",
        "colab_type": "code",
        "colab": {}
      },
      "source": [
        "\n"
      ],
      "execution_count": null,
      "outputs": []
    },
    {
      "cell_type": "code",
      "metadata": {
        "id": "gvEEPAXScAwy",
        "colab_type": "code",
        "colab": {}
      },
      "source": [
        "defender_df = elements_df[['second_name','now_cost','value_season','total_points','clean_sheets','minutes','team','element_type','selected_by_percent']]"
      ],
      "execution_count": null,
      "outputs": []
    },
    {
      "cell_type": "code",
      "metadata": {
        "id": "CC1q8amDhT_X",
        "colab_type": "code",
        "colab": {}
      },
      "source": [
        "defender_df['position'] = defender_df.element_type.map(elements_types_df.set_index('id').singular_name)\n",
        "defender_df['team'] = defender_df.team.map(teams_df.set_index('id').name)\n",
        "defender_df.head()"
      ],
      "execution_count": null,
      "outputs": []
    },
    {
      "cell_type": "code",
      "metadata": {
        "id": "o0NYDIMYh-dw",
        "colab_type": "code",
        "colab": {}
      },
      "source": [
        "defender_df.sort_values('value',ascending=False).head(10)"
      ],
      "execution_count": null,
      "outputs": []
    }
  ]
}